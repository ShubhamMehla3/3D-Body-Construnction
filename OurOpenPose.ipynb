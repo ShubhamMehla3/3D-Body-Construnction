{
  "cells": [
    {
      "cell_type": "markdown",
      "metadata": {
        "id": "5Er7Ag3UN39F"
      },
      "source": [
        "# **Hmara code**"
      ]
    },
    {
      "cell_type": "code",
      "source": [
        "!pip install flask_ngrok"
      ],
      "metadata": {
        "id": "4XhKhzssYPQ3"
      },
      "execution_count": null,
      "outputs": []
    },
    {
      "cell_type": "code",
      "execution_count": null,
      "metadata": {
        "id": "s7kQJhgZNtP0"
      },
      "outputs": [],
      "source": [
        "import os\n",
        "from os.path import exists, join, basename, splitext\n",
        "import cv2\n",
        "import numpy as np\n",
        "import glob\n",
        "from subprocess import Popen, PIPE\n",
        "from flask import Flask, request, jsonify\n",
        "from flask_ngrok import run_with_ngrok\n",
        "\n",
        "git_repo_url = 'https://github.com/CMU-Perceptual-Computing-Lab/openpose.git'\n",
        "project_name = splitext(basename(git_repo_url))[0]\n",
        "if not exists(project_name):\n",
        "  # see: https://github.com/CMU-Perceptual-Computing-Lab/openpose/issues/949\n",
        "  # install new CMake becaue of CUDA10\n",
        "  !wget -q https://cmake.org/files/v3.13/cmake-3.13.0-Linux-x86_64.tar.gz\n",
        "  !tar xfz cmake-3.13.0-Linux-x86_64.tar.gz --strip-components=1 -C /usr/local\n",
        "  # clone openpose\n",
        "  !git clone -q --depth 1 $git_repo_url\n",
        "  !sed -i 's/execute_process(COMMAND git checkout master WORKING_DIRECTORY ${CMAKE_SOURCE_DIR}\\/3rdparty\\/caffe)/execute_process(COMMAND git checkout f019d0dfe86f49d1140961f8c7dec22130c83154 WORKING_DIRECTORY ${CMAKE_SOURCE_DIR}\\/3rdparty\\/caffe)/g' openpose/CMakeLists.txt\n",
        "  # install system dependencies\n",
        "  !apt-get -qq install -y libatlas-base-dev libprotobuf-dev libleveldb-dev libsnappy-dev libhdf5-serial-dev protobuf-compiler libgflags-dev libgoogle-glog-dev liblmdb-dev opencl-headers ocl-icd-opencl-dev libviennacl-dev\n",
        "  # install python dependencies\n",
        "  !pip install -q youtube-dl\n",
        "  # build openpose\n",
        "  !cd openpose && rm -rf build || true && mkdir build && cd build && cmake .. && make -j`nproc`\n",
        "  \n",
        "# from IPython.display import YouTubeVideo"
      ]
    },
    {
      "cell_type": "code",
      "source": [
        "app=Flask(__name__)\n",
        "\n",
        "# os.makedirs('/content/inputs/test/image/')\n",
        "run_with_ngrok(app)   \n",
        "\n",
        "def create_video(img_path):\n",
        "  img_array = []\n",
        "\n",
        "  img = cv2.imread(img_path)\n",
        "  height, width, layers = img.shape\n",
        "  size = (width,height)\n",
        "  img_array.append(img)\n",
        "\n",
        "  out = cv2.VideoWriter('/content/project.mp4',cv2.VideoWriter_fourcc(*'DIVX'), 15, size)\n",
        "  \n",
        "  for i in range(len(img_array)):\n",
        "      out.write(img_array[i])\n",
        "  out.release()\n",
        "\n",
        "@app.route('/corr', methods=['POST'])\n",
        "def corr():\n",
        "  file = request.files['file']\n",
        "  file.save(\"/content/image.jpg\")\n",
        "  print(\"Image saved\")\n",
        "\n",
        "  # try:\n",
        "  process = Popen(\"rm -rf project.mp4\", shell=True, stdout=PIPE, stderr=PIPE)\n",
        "  print(\"Old Video Deleted\")\n",
        "  \n",
        "  process = Popen([\"rm -rf project.avi\"], shell=True, stdout=PIPE, stderr=PIPE)\n",
        "  print(\"Old Video 2 Deleted\")\n",
        "\n",
        "  create_video(\"/content/image.jpg\")\n",
        "  print(\"Video saved\")\n",
        "  \n",
        "  process = Popen([\"cd openpose && ./build/examples/openpose/openpose.bin --face --hand --video /content/project.mp4 --write_json /content/output_json/ --display 0  --write_video ../project.avi\"],  shell=True, stdout=PIPE, stderr=PIPE)\n",
        "  print(\"Almost Done\")\n",
        "  \n",
        "  process = Popen([\"ffmpeg -y -loglevel info -i project2.avi project2.mp4\"], shell=True, stdout=PIPE, stderr=PIPE)\n",
        "  print(\"Done Part-1\")\n",
        "\n",
        "  return jsonify({\"status\": \"success\"})\n",
        "\n",
        "  # except:\n",
        "  #   print(\"No image found\")\n",
        "\n",
        "# app.run()\n",
        "\n",
        "if __name__==\"__main__\":\n",
        "    app.run()"
      ],
      "metadata": {
        "id": "yTwGn-okHt3Y"
      },
      "execution_count": null,
      "outputs": []
    }
  ],
  "metadata": {
    "accelerator": "GPU",
    "colab": {
      "provenance": []
    },
    "kernelspec": {
      "display_name": "Python 3",
      "name": "python3"
    }
  },
  "nbformat": 4,
  "nbformat_minor": 0
}